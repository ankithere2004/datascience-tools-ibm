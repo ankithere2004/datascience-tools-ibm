{
 "cells": [
  {
   "cell_type": "markdown",
   "id": "4e9646c9",
   "metadata": {},
   "source": [
    "<h1>My Jupyter Notebook on IBM Watson Studio</h1>"
   ]
  },
  {
   "cell_type": "markdown",
   "id": "f67201a3",
   "metadata": {},
   "source": [
    "<p>\n",
    "    <strong>Ankit Singh</strong><br/>\n",
    "    Director, Architecture\n",
    "</p>"
   ]
  },
  {
   "cell_type": "markdown",
   "id": "b594ce23",
   "metadata": {},
   "source": [
    "<i>I am interested in Data Science because we are creating a brand new AI platform with a team of professional Machine Learning/Data Science experts. I would like the ability to understand their work and be able to contribute towards the models that we will build on this brand new platform. I believe in comibining my industry domain expertise along with technical data science skills, will lead to some pretty valuable models for this platform.</i>"
   ]
  },
  {
   "cell_type": "markdown",
   "id": "c4d599ad",
   "metadata": {},
   "source": [
    "<h3>I will demostrate a simple addition below</h3>"
   ]
  },
  {
   "cell_type": "code",
   "execution_count": 4,
   "id": "c4f784f3",
   "metadata": {},
   "outputs": [
    {
     "data": {
      "text/plain": [
       "2"
      ]
     },
     "execution_count": 4,
     "metadata": {},
     "output_type": "execute_result"
    }
   ],
   "source": [
    "1+1"
   ]
  },
  {
   "cell_type": "markdown",
   "id": "37bbdf70",
   "metadata": {},
   "source": [
    "<h4>Top benefits of AI to our products using bulleted list</h4>\n",
    "\n",
    "<ul>\n",
    "  <li>Accurate predictability in Healthcare domains</li>\n",
    "  <li>Classification of complaints in the Quality System and their severities</li>\n",
    "  <li>Determining the likelihood of next batch failure in manufacturing floors</li>\n",
    "</ul>  \n",
    "\n",
    "<h4>Rank in terms of where we can apply AI modeling in our solutions using numbered list</h4>\n",
    "\n",
    "<ol>\n",
    "  <li>Life Science</li>\n",
    "  <li>Manufacturing</li>\n",
    "  <li>Compliance</li>\n",
    "</ol> \n",
    "\n",
    "<h4>HTML Table depicting the level of maturity of current department' AI capabilities</h4>\n",
    "\n",
    "<table>\n",
    "  <tr>\n",
    "    <th>Department</th>\n",
    "    <th>Contact</th>\n",
    "    <th>Score</th>\n",
    "  </tr>\n",
    "  <tr>\n",
    "    <td>Labs</td>\n",
    "    <td>Maria Anders</td>\n",
    "    <td>Low</td>\n",
    "  </tr>\n",
    "  <tr>\n",
    "    <td>Manufacturing</td>\n",
    "    <td>Francisco Chang</td>\n",
    "    <td>High</td>\n",
    "  </tr>\n",
    "  <tr>\n",
    "    <td>Legal</td>\n",
    "    <td>Roland Mendel</td>\n",
    "    <td>Medium</td>\n",
    "  </tr>\n",
    "  <tr>\n",
    "    <td>Compliance</td>\n",
    "    <td>Helen Bennett</td>\n",
    "    <td>Low</td>\n",
    "  </tr>\n",
    "  <tr>\n",
    "    <td>Security</td>\n",
    "    <td>Yoshi Tannamuri</td>\n",
    "    <td>Low</td>\n",
    "  </tr>\n",
    "  <tr>\n",
    "    <td>Shipping</td>\n",
    "    <td>Giovanni Rovelli</td>\n",
    "    <td>High</td>\n",
    "  </tr>\n",
    "</table>"
   ]
  },
  {
   "cell_type": "markdown",
   "id": "2e2009ff",
   "metadata": {},
   "source": []
  },
  {
   "cell_type": "code",
   "execution_count": null,
   "id": "335532e3",
   "metadata": {},
   "outputs": [],
   "source": []
  }
 ],
 "metadata": {
  "kernelspec": {
   "display_name": "Python 3 (ipykernel)",
   "language": "python",
   "name": "python3"
  },
  "language_info": {
   "codemirror_mode": {
    "name": "ipython",
    "version": 3
   },
   "file_extension": ".py",
   "mimetype": "text/x-python",
   "name": "python",
   "nbconvert_exporter": "python",
   "pygments_lexer": "ipython3",
   "version": "3.10.10"
  }
 },
 "nbformat": 4,
 "nbformat_minor": 5
}
