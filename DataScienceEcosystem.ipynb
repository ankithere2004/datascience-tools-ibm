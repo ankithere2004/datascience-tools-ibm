{
 "cells": [
  {
   "cell_type": "markdown",
   "id": "9f2d0bf9",
   "metadata": {},
   "source": [
    "<h1>Data Science Tools and Ecosystem</h1>"
   ]
  },
  {
   "cell_type": "markdown",
   "id": "1b8d2b0b",
   "metadata": {},
   "source": [
    "<p>\n",
    "    In this notebook, Data Science Tools and Ecosystem are summarized.\n",
    "</p>"
   ]
  },
  {
   "cell_type": "markdown",
   "id": "a55bbb99",
   "metadata": {},
   "source": [
    "<p>Some of the popular languages that Data Scientists use are:</p>\n",
    "\n",
    "<ol>\n",
    "  <li>Python</li>\n",
    "  <li>R</li>\n",
    "  <li>Julia</li>\n",
    "</ol>  "
   ]
  },
  {
   "cell_type": "markdown",
   "id": "3c9b8482",
   "metadata": {},
   "source": [
    "<p>Some of the commonly used libraries used by Data Scientists include:<p>\n",
    "<ol>\n",
    "  <li>TensorFlow</li>\n",
    "  <li>NumPy</li>\n",
    "  <li>SciPy</li> \n",
    "  <li>Pandas</li>\n",
    "  <li>Matplotlib</li> \n",
    "</ol>  "
   ]
  },
  {
   "cell_type": "markdown",
   "id": "96a7193f",
   "metadata": {},
   "source": [
    "<p>\n",
    "<table>\n",
    "  <tr>\n",
    "    <th>Data Science Tools</th>\n",
    "  </tr>\n",
    "  <tr>\n",
    "    <th>Jupyter</th>\n",
    "  </tr>\n",
    "  <tr>\n",
    "    <td>R Studio</td>\n",
    "  </tr>\n",
    "  <tr>\n",
    "    <td>Watson Studio</td>\n",
    "  </tr>\n",
    "</table>\n",
    "</p>"
   ]
  },
  {
   "cell_type": "markdown",
   "id": "2e496830",
   "metadata": {},
   "source": [
    "<p>Below are a few examples of evaluating arithmetic expressions in Python</p>"
   ]
  },
  {
   "cell_type": "code",
   "execution_count": 4,
   "id": "05fd1a6e",
   "metadata": {},
   "outputs": [
    {
     "data": {
      "text/plain": [
       "17"
      ]
     },
     "execution_count": 4,
     "metadata": {},
     "output_type": "execute_result"
    }
   ],
   "source": [
    "(3*4)+5"
   ]
  },
  {
   "cell_type": "code",
   "execution_count": 8,
   "id": "d6594f16",
   "metadata": {},
   "outputs": [
    {
     "name": "stdout",
     "output_type": "stream",
     "text": [
      "3.3333333333333335\n"
     ]
    }
   ],
   "source": [
    "#This will convert 200 minutes to hours by diving by 60\n",
    "minutes = 200;\n",
    "hours = minutes / 60;\n",
    "print(hours);"
   ]
  },
  {
   "cell_type": "markdown",
   "id": "12238895",
   "metadata": {},
   "source": [
    "<b>Objectives:</b>\n",
    "\n",
    "<ul>\n",
    "  <li>List popular languages for Data Science</li>\n",
    "  <li>List Popular libraries for data science</li>\n",
    "  <li>List Popular tools for Data Science</li>\n",
    "  <li>Learn how to use Jupyter notebooks, R Studio and Watson Studion</li>\n",
    "  <li>earn data modeling flows</li>\n",
    "</ul>      "
   ]
  },
  {
   "cell_type": "markdown",
   "id": "72abf612",
   "metadata": {},
   "source": [
    "<h2>Author</h2>\n",
    "Ankit Singh"
   ]
  },
  {
   "cell_type": "code",
   "execution_count": null,
   "id": "bac8b7f6",
   "metadata": {},
   "outputs": [],
   "source": []
  }
 ],
 "metadata": {
  "kernelspec": {
   "display_name": "Python 3 (ipykernel)",
   "language": "python",
   "name": "python3"
  },
  "language_info": {
   "codemirror_mode": {
    "name": "ipython",
    "version": 3
   },
   "file_extension": ".py",
   "mimetype": "text/x-python",
   "name": "python",
   "nbconvert_exporter": "python",
   "pygments_lexer": "ipython3",
   "version": "3.10.10"
  }
 },
 "nbformat": 4,
 "nbformat_minor": 5
}
